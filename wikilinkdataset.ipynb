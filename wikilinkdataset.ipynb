{
 "cells": [
  {
   "cell_type": "code",
   "execution_count": 3,
   "metadata": {},
   "outputs": [],
   "source": [
    "import scala.io.Source\n",
    "import scala.util.control.Breaks._\n",
    "import scala.util.matching.Regex \n",
    "import org.apache.spark.rdd.RDD\n",
    "import java.io._"
   ]
  },
  {
   "cell_type": "code",
   "execution_count": 4,
   "metadata": {},
   "outputs": [
    {
     "data": {
      "text/plain": [
       "s = empty iterator\n",
       "x = ftp://216.24.126.75/serversoftware/ocs/OCS_Inventory_NG-Installation_and_Administration_Guide_1.7_EN.odt\n",
       "pw = java.io.PrintWriter@344216b8\n",
       "pairs22 = Map(ftp://216.24.126.75/serversoftware/ocs/OCS_Inventory_NG-Installation_and_Administration_Guide_1.7_EN.odt -> http://en.wikipedia.org/wiki/Self-signed_certificate)\n"
      ]
     },
     "metadata": {},
     "output_type": "display_data"
    },
    {
     "data": {
      "text/plain": [
       "Map(ftp://216.24.126.75/serversoftware/ocs/OCS_Inventory_NG-Installation_and_Administration_Guide_1.7_EN.odt -> http://en.wikipedia.org/wiki/Self-signed_certificate)"
      ]
     },
     "execution_count": 4,
     "metadata": {},
     "output_type": "execute_result"
    }
   ],
   "source": [
    "val s = Source.fromFile(\"/home/shankar/Downloads/wikilinks\")\n",
    "var x=\"\"\n",
    "val pw = new PrintWriter(new File(\"WIKILINKS.txt\" ))\n",
    "var pairs22:Map[String,String]=Map()\n",
    "for(y <- s.getLines())\n",
    "{\n",
    "       if(y.startsWith(\"URL\"))\n",
    "    {\n",
    "        val g = new Regex(\"ftp(.)*|http(.)*\") \n",
    "        \n",
    "        x=((g findAllIn y).mkString(\",\").toString)\n",
    "    }\n",
    "    if(y.startsWith(\"MENTION\"))\n",
    "    {\n",
    "        val h = new Regex(\"http(.)*\") \n",
    "        //println((g findAllIn y).mkString(\",\"))\n",
    "      //  println(x)\n",
    "        var z=((h findAllIn y).mkString(\",\").toString)\n",
    "      //  println(z)\n",
    "        pw.write(x+\",\"+z+\"\\n\")\n",
    "        pairs22=Map(x->z)\n",
    "        //pw.write(pairs22)\n",
    "    }\n",
    "}\n",
    "pw.close"
   ]
  },
  {
   "cell_type": "code",
   "execution_count": 5,
   "metadata": {},
   "outputs": [
    {
     "data": {
      "text/plain": [
       "rdd = WIKILINKS.txt MapPartitionsRDD[1] at textFile at <console>:36\n"
      ]
     },
     "metadata": {},
     "output_type": "display_data"
    },
    {
     "data": {
      "text/plain": [
       "WIKILINKS.txt MapPartitionsRDD[1] at textFile at <console>:36"
      ]
     },
     "execution_count": 5,
     "metadata": {},
     "output_type": "execute_result"
    },
    {
     "name": "stdout",
     "output_type": "stream",
     "text": [
      "(ftp://194.44.98.42/UPLOAD/SOFT/delphi/AForge.NET%20Framework-2.2.3/Release/AForge.Imaging.xml,http://en.wikipedia.org/wiki/Bayer_filter)\n",
      "(ftp://216.24.126.75/serversoftware/ocs/OCS_Inventory_NG-Installation_and_Administration_Guide_1.7_EN.odt,http://en.wikipedia.org/wiki/Certificate_authority)\n",
      "(ftp://216.24.126.75/serversoftware/ocs/OCS_Inventory_NG-Installation_and_Administration_Guide_1.7_EN.odt,http://en.wikipedia.org/wiki/Cryptography)\n",
      "(ftp://216.24.126.75/serversoftware/ocs/OCS_Inventory_NG-Installation_and_Administration_Guide_1.7_EN.odt,http://en.wikipedia.org/wiki/Digital_signature)\n",
      "(ftp://216.24.126.75/serversoftware/ocs/OCS_Inventory_NG-Installation_and_Administration_Guide_1.7_EN.odt,http://en.wikipedia.org/wiki/Web_of_trust)\n",
      "(ftp://216.24.126.75/serversoftware/ocs/OCS_Inventory_NG-Installation_and_Administration_Guide_1.7_EN.odt,http://en.wikipedia.org/wiki/Public_key)\n",
      "(ftp://216.24.126.75/serversoftware/ocs/OCS_Inventory_NG-Installation_and_Administration_Guide_1.7_EN.odt,http://en.wikipedia.org/wiki/Self-signed_certificate)\n",
      "(ftp://216.24.126.75/serversoftware/ocs/OCS_Inventory_NG-Installation_and_Administration_Guide_1.7_EN.odt,http://en.wikipedia.org/wiki/Public_key_infrastructure)\n",
      "(ftp://194.44.98.42/UPLOAD/SOFT/delphi/AForge.NET%20Framework-2.2.3/Release/AForge.Imaging.xml,http://en.wikipedia.org/wiki/Bayer_filter)\n",
      "(ftp://216.24.126.75/serversoftware/ocs/OCS_Inventory_NG-Installation_and_Administration_Guide_1.7_EN.odt,http://en.wikipedia.org/wiki/Cryptography)\n",
      "(ftp://216.24.126.75/serversoftware/ocs/OCS_Inventory_NG-Installation_and_Administration_Guide_1.7_EN.odt,http://en.wikipedia.org/wiki/Digital_signature)\n",
      "(ftp://216.24.126.75/serversoftware/ocs/OCS_Inventory_NG-Installation_and_Administration_Guide_1.7_EN.odt,http://en.wikipedia.org/wiki/Public_key)\n",
      "(ftp://216.24.126.75/serversoftware/ocs/OCS_Inventory_NG-Installation_and_Administration_Guide_1.7_EN.odt,http://en.wikipedia.org/wiki/Public_key_infrastructure)\n",
      "(ftp://216.24.126.75/serversoftware/ocs/OCS_Inventory_NG-Installation_and_Administration_Guide_1.7_EN.odt,http://en.wikipedia.org/wiki/Certificate_authority)\n",
      "(ftp://216.24.126.75/serversoftware/ocs/OCS_Inventory_NG-Installation_and_Administration_Guide_1.7_EN.odt,http://en.wikipedia.org/wiki/Web_of_trust)\n",
      "(ftp://216.24.126.75/serversoftware/ocs/OCS_Inventory_NG-Installation_and_Administration_Guide_1.7_EN.odt,http://en.wikipedia.org/wiki/Self-signed_certificate)\n"
     ]
    }
   ],
   "source": [
    "val rdd = sc.textFile(\"WIKILINKS.txt\")"
   ]
  },
  {
   "cell_type": "code",
   "execution_count": 7,
   "metadata": {},
   "outputs": [
    {
     "data": {
      "text/plain": [
       "pairs = MapPartitionsRDD[3] at map at <console>:42\n"
      ]
     },
     "metadata": {},
     "output_type": "display_data"
    },
    {
     "data": {
      "text/plain": [
       "MapPartitionsRDD[3] at map at <console>:42"
      ]
     },
     "execution_count": 7,
     "metadata": {},
     "output_type": "execute_result"
    }
   ],
   "source": [
    "val pairs = rdd.map(x => (x.split(\",\")(0), x.split(\",\")(1)))\n",
    " pairs.foreach(println)"
   ]
  },
  {
   "cell_type": "code",
   "execution_count": 8,
   "metadata": {},
   "outputs": [
    {
     "name": "stdout",
     "output_type": "stream",
     "text": [
      "8\n"
     ]
    },
    {
     "data": {
      "text/plain": [
       "counts = 8\n"
      ]
     },
     "metadata": {},
     "output_type": "display_data"
    },
    {
     "data": {
      "text/plain": [
       "8"
      ]
     },
     "execution_count": 8,
     "metadata": {},
     "output_type": "execute_result"
    }
   ],
   "source": [
    "val counts =pairs.count()\n",
    "println(counts)"
   ]
  }
 ],
 "metadata": {
  "kernelspec": {
   "display_name": "Apache Toree - Scala",
   "language": "scala",
   "name": "apache_toree_scala"
  },
  "language_info": {
   "codemirror_mode": "text/x-scala",
   "file_extension": ".scala",
   "mimetype": "text/x-scala",
   "name": "scala",
   "pygments_lexer": "scala",
   "version": "2.11.12"
  }
 },
 "nbformat": 4,
 "nbformat_minor": 2
}
